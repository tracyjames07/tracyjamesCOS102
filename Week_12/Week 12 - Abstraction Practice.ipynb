{
 "cells": [
  {
   "cell_type": "markdown",
   "metadata": {},
   "source": [
    "# What is Abstraction in OOP"
   ]
  },
  {
   "cell_type": "markdown",
   "metadata": {},
   "source": [
    "<ul><li>Abstraction is the concept of object-oriented programming that “shows” only essential attributes and “hides” unnecessary information.</li><li>The main purpose of abstraction is hiding the unnecessary details from the users. </li><li> Abstraction is selecting data from a larger pool to show only relevant details of the object to the user. </li><li> It helps in reducing programming complexity and efforts. </li><li>It is one of the most important concepts of OOPs.</li></ul> "
   ]
  },
  {
   "cell_type": "markdown",
   "metadata": {},
   "source": [
    "# Abstraction in Python"
   ]
  },
  {
   "cell_type": "markdown",
   "metadata": {},
   "source": [
    "<ul><li>Abstraction in python is defined as hiding the implementation of logic from the client and using the particular application. </li><li>It hides the irrelevant data specified in the project, reducing complexity and giving value to the efficiency.</li><li> Abstraction is made in Python using <b>Abstract classes</b> and their methods in the code.</li></ul>"
   ]
  },
  {
   "cell_type": "markdown",
   "metadata": {},
   "source": [
    "## What is an Abstract Class?"
   ]
  },
  {
   "cell_type": "markdown",
   "metadata": {},
   "source": [
    "<ul><li>Abstract Class is a type of class in OOPs, that declare one or more abstract methods. </li><li>These classes can have abstract methods as well as concrete methods. </li><li>A normal class cannot have abstract methods.</li><li>An abstract class is a class that contains at least one abstract method.</li></ul>"
   ]
  },
  {
   "cell_type": "markdown",
   "metadata": {},
   "source": [
    "## What are Abstract Methods?\n",
    "<ul><li>Abstract Method is a method that has just the method definition but does not contain implementation.</li><li>A method without a body is known as an Abstract Method.</li><li>It must be declared in an abstract class.</li><li>The abstract method will never be final because the abstract class must implement all the abstract methods.</li></ul>"
   ]
  },
  {
   "cell_type": "markdown",
   "metadata": {},
   "source": [
    "## When to use Abstract Methods & Abstract Class?\n",
    "<ul><li>Abstract methods are mostly declared where two or more subclasses are also doing the same thing in different ways through different implementations.</li><li>It also extends the same Abstract class and offers different implementations of the abstract methods.</li><li>Abstract classes help to describe generic types of behaviors and object-oriented programming class hierarchy. </li><li>It also describes subclasses to offer implementation details of the abstract class.</li></ul>"
   ]
  },
  {
   "cell_type": "markdown",
   "metadata": {},
   "source": [
    "## Difference between Abstraction and Encapsulation"
   ]
  },
  {
   "cell_type": "markdown",
   "metadata": {},
   "source": [
    "<table style=\"background-color:#000000\">\n",
    "    <tr><th><b>Abstraction</b></th><th><b>Encapsulation</b></th></tr>\n",
    "    <tr><td>Abstraction in Object Oriented Programming solves the issues at the design level.</td><td>Encapsulation solves it implementation level.</td></tr>\n",
    "    <tr><td>Abstraction in Programming is about hiding unwanted details while showing most essential information.</td><td>Encapsulation means binding the code and data into a single unit.</td></tr>\n",
    "    <tr><td>Data Abstraction in Java allows focussing on what the information object must contain</td><td>Encapsulation means hiding the internal details or mechanics of how an object does something for security reasons.</td></tr>\n",
    "</table>"
   ]
  },
  {
   "cell_type": "markdown",
   "metadata": {},
   "source": [
    "## Advantages of Abstraction\n",
    "<ol><li>The main benefit of using an Abstraction in Programming is that it allows you to group several related classes as siblings.</li><li>\n",
    "Abstraction in Object Oriented Programming helps to reduce the complexity of the design and implementation process of software.</li></ol>"
   ]
  },
  {
   "cell_type": "markdown",
   "metadata": {},
   "source": [
    "## How Abstract Base classes work : \n",
    "<ul><li>By default, Python does not provide abstract classes. Python comes with a module that provides the base for defining Abstract Base classes(ABC) and that module name is ABC. </li><li>ABC works by decorating methods of the base class as abstract and then registering concrete classes as implementations of the abstract base. </li><li>A method becomes abstract when decorated with the keyword @abstractmethod.</li></ul>"
   ]
  },
  {
   "cell_type": "markdown",
   "metadata": {},
   "source": [
    "#### Syntax\n",
    "\n",
    "Abstract class Syntax is declared as:"
   ]
  },
  {
   "cell_type": "code",
   "execution_count": 25,
   "metadata": {},
   "outputs": [],
   "source": [
    "from abc import ABC, abstractmethod\n",
    "\n",
    "# declaration\n",
    "class classname(ABC):\n",
    "    pass"
   ]
  },
  {
   "cell_type": "markdown",
   "metadata": {},
   "source": [
    "Abstract method Syntax is declared as"
   ]
  },
  {
   "cell_type": "code",
   "execution_count": 27,
   "metadata": {},
   "outputs": [],
   "source": [
    "@abstractmethod\n",
    "def abstractmethod_name():\n",
    "    pass"
   ]
  },
  {
   "cell_type": "markdown",
   "metadata": {},
   "source": [
    "### Few things to be noted in Python:\n",
    "\n",
    "<ul><li>In python, an abstract class can hold both an abstract method and a normal method.</li><li>\n",
    "The second point is an abstract class is not initiated (no objects are created).</li><li>\n",
    "The derived class implementation methods are defined in abstract base classes.</li></ul>"
   ]
  },
  {
   "cell_type": "code",
   "execution_count": 4,
   "metadata": {},
   "outputs": [],
   "source": [
    "from abc import ABC\n",
    "\n",
    "# here abc and ABC are case-sensitive. When we swap it creates"
   ]
  },
  {
   "cell_type": "markdown",
   "metadata": {},
   "source": [
    "### Code I:"
   ]
  },
  {
   "cell_type": "code",
   "execution_count": 24,
   "metadata": {},
   "outputs": [],
   "source": [
    "from abc import ABC, abstractmethod\n",
    "\n",
    "# Abstract Class\n",
    "class product(ABC):                    \n",
    "    \n",
    "    # Normal Method\n",
    "    def item_list(self, rate):\n",
    "        print(\"amount submitted: \", rate)\n",
    "    \n",
    "    # Abstract Method\n",
    "    @abstractmethod\n",
    "    def product(self, rate):                      \n",
    "        pass"
   ]
  },
  {
   "cell_type": "markdown",
   "metadata": {},
   "source": [
    "### Code II:\n",
    "A program to generate the volume of geometric shapes"
   ]
  },
  {
   "cell_type": "code",
   "execution_count": 11,
   "metadata": {},
   "outputs": [
    {
     "name": "stdout",
     "output_type": "stream",
     "text": [
      "Volume of a rectangle: 144\n",
      "Volume of a circle: 2089.9840000000004\n",
      "Volume of a square: 125\n",
      "Volume of a triangle: 10.0\n"
     ]
    }
   ],
   "source": [
    "from abc import ABC\n",
    "\n",
    "class geometric(ABC):\n",
    "    \n",
    "    def volume(self):\n",
    "        #abstract method\n",
    "        pass\n",
    "    \n",
    "class Rect(geometric):\n",
    "    length = 4\n",
    "    width = 6\n",
    "    height = 6\n",
    "    \n",
    "    def volume(self):\n",
    "        return self.length * self.width * self.height\n",
    "    \n",
    "class Sphere(geometric):\n",
    "    radius = 8\n",
    "    def volume(self):\n",
    "        return 1.3 * 3.14 * self.radius * self.radius * self.radius\n",
    "    \n",
    "class Cube(geometric):\n",
    "    Edge = 5\n",
    "    def volume(self):\n",
    "        return self.Edge * self.Edge * self.Edge\n",
    "    \n",
    "class Triangle_3D:\n",
    "    length = 5\n",
    "    width = 4\n",
    "    def volume(self):\n",
    "        return 0.5 * self.length * self.width\n",
    "    \n",
    "rr = Rect()\n",
    "ss = Sphere()\n",
    "cc = Cube()\n",
    "tt = Triangle_3D()\n",
    "print(\"Volume of a rectangle:\", rr.volume())\n",
    "print(\"Volume of a circle:\", ss.volume())\n",
    "print(\"Volume of a square:\", cc.volume())\n",
    "print(\"Volume of a triangle:\", tt.volume())"
   ]
  },
  {
   "cell_type": "markdown",
   "metadata": {},
   "source": [
    "### Code III\n",
    "A program to generate different invoices"
   ]
  },
  {
   "cell_type": "code",
   "execution_count": 19,
   "metadata": {},
   "outputs": [
    {
     "name": "stdout",
     "output_type": "stream",
     "text": [
      "Paycheque of:  6500\n",
      "Purchase of the product:  6500\n",
      "True\n",
      "Pay through card of:  2600\n",
      "Purchase of the product:  2600\n",
      "True\n"
     ]
    }
   ],
   "source": [
    "from abc import ABC, abstractmethod\n",
    "\n",
    "class Bill(ABC):\n",
    "    def final_bill(self, pay):\n",
    "        print('Purchase of the product: ', pay)\n",
    "        \n",
    "    @abstractmethod\n",
    "    def Invoice(self, pay):\n",
    "        pass\n",
    "    \n",
    "class PayCheque(Bill):\n",
    "    def Invoice(self, pay):\n",
    "        print('Paycheque of: ', pay)\n",
    "        \n",
    "class CardPayment(Bill):\n",
    "    def Invoice(self, pay):\n",
    "        print('Pay through card of: ', pay)\n",
    "        \n",
    "aa = PayCheque()\n",
    "aa.Invoice(6500)\n",
    "aa.final_bill(6500)\n",
    "print(isinstance(aa,Bill))\n",
    "aa = CardPayment()\n",
    "aa.Invoice(2600)\n",
    "aa.final_bill(2600)\n",
    "print(isinstance(aa,Bill))"
   ]
  },
  {
   "cell_type": "markdown",
   "metadata": {},
   "source": [
    "### Code IV:\n",
    " Python program showing abstract base class work"
   ]
  },
  {
   "cell_type": "code",
   "execution_count": 15,
   "metadata": {},
   "outputs": [
    {
     "name": "stdout",
     "output_type": "stream",
     "text": [
      "I can walk and run\n",
      "I can crawl\n",
      "I can bark\n",
      "I can roar\n"
     ]
    }
   ],
   "source": [
    "from abc import ABC, abstractmethod\n",
    "\n",
    "class Animals(ABC):\n",
    "\n",
    "    @abstractmethod\n",
    "    def move(self):\n",
    "        pass\n",
    "\n",
    "class Human(Animals):\n",
    "    \n",
    "    def move(self):\n",
    "        print(\"I can walk and run\")\n",
    "\n",
    "class Snake(Animals):\n",
    "    \n",
    "    def move(self):\n",
    "        print(\"I can crawl\")\n",
    "\n",
    "class Dog(Animals):\n",
    "\n",
    "    def move(self):\n",
    "        print(\"I can bark\")\n",
    "\n",
    "class Lion(Animals):\n",
    "    \n",
    "    def move(self):\n",
    "        print(\"I can roar\")\n",
    "\n",
    "# Object Instantiation\n",
    "R = Human()\n",
    "R.move()\n",
    "\n",
    "K = Snake()\n",
    "K.move()\n",
    "\n",
    "R = Dog()\n",
    "R.move()\n",
    "\n",
    "K = Lion()\n",
    "K.move()\n"
   ]
  },
  {
   "cell_type": "markdown",
   "metadata": {},
   "source": [
    "### Concrete Methods in Abstract Base Classes : \n",
    "<ul><li>Concrete (normal) classes contain only concrete (normal) methods whereas abstract classes may contain both concrete methods and abstract methods.</li><li> The concrete class provides an implementation of abstract methods, the abstract base class can also provide an implementation by invoking the methods via super().</li></ul>"
   ]
  },
  {
   "cell_type": "markdown",
   "metadata": {},
   "source": [
    "### Code V:\n",
    "Python program invoking a method using super()"
   ]
  },
  {
   "cell_type": "code",
   "execution_count": 21,
   "metadata": {},
   "outputs": [
    {
     "name": "stdout",
     "output_type": "stream",
     "text": [
      "Abstract Base Class\n",
      "Subclass\n"
     ]
    }
   ],
   "source": [
    "from abc import ABC, abstractmethod\n",
    "\n",
    "class Zinc(ABC):\n",
    "    \n",
    "    def rk(self):\n",
    "        print(\"Abstract Base Class\")\n",
    "\n",
    "class Tin(Zinc):\n",
    "    def rk(self):\n",
    "        super().rk()\n",
    "        print(\"Subclass\")\n",
    "\n",
    "# Object instantiation\n",
    "r = Tin()\n",
    "r.rk()\n"
   ]
  },
  {
   "cell_type": "markdown",
   "metadata": {},
   "source": [
    "### Code VI:"
   ]
  },
  {
   "cell_type": "code",
   "execution_count": 22,
   "metadata": {},
   "outputs": [
    {
     "name": "stdout",
     "output_type": "stream",
     "text": [
      "Total Naira Value here:  5000\n",
      "Total Naira Value here: 2000\n",
      "Fees submitted :  3500\n"
     ]
    }
   ],
   "source": [
    "from abc import ABC, abstractmethod\n",
    "\n",
    "class Bank(ABC):\n",
    "    def branch(self, Naira):\n",
    "        print(\"Fees submitted : \", Naira)\n",
    "   \n",
    "    @abstractmethod\n",
    "    def Bank(Naira):\n",
    "        pass\n",
    "    \n",
    "class private(Bank):\n",
    "    def Bank(Naira):\n",
    "        print(\"Total Naira Value here: \", Naira)\n",
    "        \n",
    "class public(Bank):\n",
    "    def Bank(Naira):\n",
    "        print(\"Total Naira Value here:\", Naira)\n",
    "\n",
    "private.Bank(5000)\n",
    "public.Bank(2000)\n",
    "\n",
    "a = public()\n",
    "a.branch(3500)"
   ]
  },
  {
   "cell_type": "markdown",
   "metadata": {},
   "source": [
    "## Class Project I"
   ]
  },
  {
   "cell_type": "markdown",
   "metadata": {},
   "source": [
    "Develop a python OOP program that creates an abstract base class called coup_de_ecriva.  The base class will have one abstract method called <b>Fan_Page</b> and four subclassses namely; <b>FC_Cirok, Madiba_FC, Blue_Jay_FC and TSG_Walker</b>. The program will receive as input the name of the club the user supports and instantiate an object that will invoke the <b>Fan_Page</b> method in the subclass that prints Welcome to <b>\"club name\"</b>.\n",
    "\n",
    "<p><b>Hint:</b></p>\n",
    "The subclasses will use <b>Single Inheritance</b> to inherit the abstract base class.\n",
    " "
   ]
  },
  {
   "cell_type": "code",
   "execution_count": 45,
   "metadata": {},
   "outputs": [
    {
     "name": "stdout",
     "output_type": "stream",
     "text": [
      "Hi, Temi! \n",
      "Welcome to the FC TSG Walker fanpage!\n"
     ]
    }
   ],
   "source": [
    "from abc import ABC, abstractmethod\n",
    "\n",
    "name = input(\"What's your name? \")\n",
    "club = input(\"What club are you cheering? \")\n",
    "\n",
    "class CoupDeEscriva(ABC):\n",
    "    @abstractmethod\n",
    "    def FanPage (self, name, club):\n",
    "        print(f\"Hi, {name}! \\nWelcome to the {club} fanpage!\")\n",
    "\n",
    "class FC_Cirok(CoupDeEscriva):\n",
    "    def FanPage(name, club):\n",
    "        print(f\"Hi, {name}! \\nWelcome to the {club} fanpage!\")\n",
    "    \n",
    "class FC_Madiba(CoupDeEscriva):\n",
    "    def FanPage(name, club):\n",
    "        print(f\"Hi, {name}! \\nWelcome to the {club} fanpage!\")\n",
    "    \n",
    "class FC_BlueJay(CoupDeEscriva):\n",
    "    def FanPage(name, club):\n",
    "        print(f\"Hi, {name}! \\nWelcome to the {club} fanpage!\")\n",
    "    \n",
    "class TSG_Walker(CoupDeEscriva):\n",
    "    def FanPage(name, club):\n",
    "        print(f\"Hi, {name}! \\nWelcome to the {club} fanpage!\")\n",
    "    \n",
    "if club == \"FC Cirok\":\n",
    "    FC_Cirok.FanPage(name, club)\n",
    "elif club == \"FC Madiba\":\n",
    "    FC_Madiba.FanPage(name, club)\n",
    "elif club == \"FC Blue Jay\":\n",
    "    FC_BlueJay.FanPage(name, club)\n",
    "elif club == \"FC TSG Walker\":\n",
    "    TSG_Walker.FanPage(name, club)\n",
    "else:\n",
    "    print(\"There seems to be an error in your input.\")"
   ]
  },
  {
   "cell_type": "markdown",
   "metadata": {},
   "source": [
    "## Class Project II"
   ]
  },
  {
   "cell_type": "markdown",
   "metadata": {},
   "source": [
    "The Service Unit of PAU has contacted you to develop a program to manage some of the External Food Vendors. With your knowledge in python GUI and OOP develop a program to manage the PAU External Food Vendors. The program receives as input the vendor of interest and display the menu of the interested vendor. The External vendors are Faith hostel, Cooperative Hostel, and Student Center. Find below the menus:\n",
    "\n",
    "<table><tr><td>\n",
    "<table style=\"background-color:#003C43\">\n",
    "    <tr><th colspan='2'>Cooperative Cafeteria</th></tr>\n",
    "    <tr><th>Main Meal</th><th>Price (N)</th></tr>\n",
    "    <tr><td>Jollof Rice and Stew</td><td>200</td></tr>\n",
    "    <tr><td>White Rice and Stew</td><td>200</td></tr>\n",
    "    <tr><td>Fried Rice</td><td>200</td></tr>\n",
    "    <tr><td>Salad</td><td>100</td></tr>\n",
    "    <tr><td>Platain</td><td>100</td></tr>\n",
    "</table>\n",
    "    </td><td>\n",
    "<table style=\"background-color:#D63484\">\n",
    "    <tr><th colspan='2'>Faith Hostel Cafeteria</th></tr>\n",
    "    <tr><th>Main Meal</th><th>Price (N)</th></tr>\n",
    "    <tr><td>Fried Rice</td><td>400</td></tr>\n",
    "    <tr><td>White Rice and Stew</td><td>400</td></tr>\n",
    "    <tr><td>Jollof Rice</td><td>400</td></tr>\n",
    "    <tr><td>Beans</td><td>200</td></tr>\n",
    "    <tr><td>Chicken</td><td>1000</td></tr>\n",
    "</table>\n",
    "    </td><td>\n",
    "    <table style=\"background-color:#4F6F52\">\n",
    "    <tr><th colspan='2'>Student Centre Cafeteria</th></tr>\n",
    "    <tr><th>Main Meal</th><th>Price (N)</th></tr>\n",
    "    <tr><td>Chicken Fried Rice</td><td>800</td></tr>\n",
    "    <tr><td>Pomo Sauce</td><td>300</td></tr>\n",
    "    <tr><td>Spaghetti Jollof</td><td>500</td></tr>\n",
    "    <tr><td>Amala/Ewedu</td><td>500</td></tr>\n",
    "    <tr><td>Semo with Eforiro Soup</td><td>500</td></tr>\n",
    "</table>\n",
    "    </td></tr>\n",
    "<table>\n",
    "    \n",
    "<p><b>Hints:</b></p>\n",
    "    <ul><li>The abstract base class is called <b>External_Vendors()</b>.</li><li>\n",
    "        The abstract method is called <b>menu()</b>.</li><li>\n",
    "The subclasses (the different vendors) will inherit the abstract base class.</li><li>\n",
    "        Each subclass will have a normal method called <b>menu()</b>.</li></ul>\n",
    "    \n",
    "       "
   ]
  },
  {
   "cell_type": "code",
   "execution_count": 3,
   "metadata": {},
   "outputs": [
    {
     "ename": "AttributeError",
     "evalue": "'str' object has no attribute 'items'",
     "output_type": "error",
     "traceback": [
      "\u001b[1;31m---------------------------------------------------------------------------\u001b[0m",
      "\u001b[1;31mAttributeError\u001b[0m                            Traceback (most recent call last)",
      "Cell \u001b[1;32mIn[3], line 60\u001b[0m\n\u001b[0;32m     57\u001b[0m vendor\u001b[38;5;241m.\u001b[39mtitle(\u001b[38;5;124m\"\u001b[39m\u001b[38;5;124mChow Town\u001b[39m\u001b[38;5;124m\"\u001b[39m)\n\u001b[0;32m     58\u001b[0m vendor\u001b[38;5;241m.\u001b[39mgeometry(\u001b[38;5;124m\"\u001b[39m\u001b[38;5;124m400x200\u001b[39m\u001b[38;5;124m\"\u001b[39m)\n\u001b[1;32m---> 60\u001b[0m text1 \u001b[38;5;241m=\u001b[39m \u001b[43mtk\u001b[49m\u001b[38;5;241;43m.\u001b[39;49m\u001b[43mLabel\u001b[49m\u001b[43m(\u001b[49m\u001b[43mvendor\u001b[49m\u001b[43m,\u001b[49m\u001b[43m \u001b[49m\u001b[38;5;124;43m\"\u001b[39;49m\u001b[38;5;124;43mWelcome to \u001b[39;49m\u001b[38;5;124;43m'\u001b[39;49m\u001b[38;5;124;43mChow Town\u001b[39;49m\u001b[38;5;124;43m'\u001b[39;49m\u001b[38;5;124;43m! \u001b[39;49m\u001b[38;5;130;43;01m\\n\u001b[39;49;00m\u001b[38;5;124;43mPAU\u001b[39;49m\u001b[38;5;124;43m'\u001b[39;49m\u001b[38;5;124;43ms number one site for getting referalls to all the yummy food vendors on campus!\u001b[39;49m\u001b[38;5;124;43m\"\u001b[39;49m\u001b[43m)\u001b[49m\n\u001b[0;32m     61\u001b[0m text1\u001b[38;5;241m.\u001b[39mpack()\n\u001b[0;32m     62\u001b[0m text2 \u001b[38;5;241m=\u001b[39m tk\u001b[38;5;241m.\u001b[39mLabel(vendor, \u001b[38;5;124m\"\u001b[39m\u001b[38;5;124mThe current vendors we offer include: \u001b[39m\u001b[38;5;130;01m\\n\u001b[39;00m\u001b[38;5;124m1. Cooperative Cafteria \u001b[39m\u001b[38;5;130;01m\\n\u001b[39;00m\u001b[38;5;124m2. Faith Hostel Cafeteria \u001b[39m\u001b[38;5;130;01m\\n\u001b[39;00m\u001b[38;5;124m3. Student Centre Cafeteria\u001b[39m\u001b[38;5;124m\"\u001b[39m)\n",
      "File \u001b[1;32m~\\AppData\\Local\\Programs\\Python\\Python311\\Lib\\tkinter\\__init__.py:3214\u001b[0m, in \u001b[0;36mLabel.__init__\u001b[1;34m(self, master, cnf, **kw)\u001b[0m\n\u001b[0;32m   3196\u001b[0m \u001b[38;5;28;01mdef\u001b[39;00m \u001b[38;5;21m__init__\u001b[39m(\u001b[38;5;28mself\u001b[39m, master\u001b[38;5;241m=\u001b[39m\u001b[38;5;28;01mNone\u001b[39;00m, cnf\u001b[38;5;241m=\u001b[39m{}, \u001b[38;5;241m*\u001b[39m\u001b[38;5;241m*\u001b[39mkw):\n\u001b[0;32m   3197\u001b[0m \u001b[38;5;250m    \u001b[39m\u001b[38;5;124;03m\"\"\"Construct a label widget with the parent MASTER.\u001b[39;00m\n\u001b[0;32m   3198\u001b[0m \n\u001b[0;32m   3199\u001b[0m \u001b[38;5;124;03m    STANDARD OPTIONS\u001b[39;00m\n\u001b[1;32m   (...)\u001b[0m\n\u001b[0;32m   3212\u001b[0m \n\u001b[0;32m   3213\u001b[0m \u001b[38;5;124;03m    \"\"\"\u001b[39;00m\n\u001b[1;32m-> 3214\u001b[0m     \u001b[43mWidget\u001b[49m\u001b[38;5;241;43m.\u001b[39;49m\u001b[38;5;21;43m__init__\u001b[39;49m\u001b[43m(\u001b[49m\u001b[38;5;28;43mself\u001b[39;49m\u001b[43m,\u001b[49m\u001b[43m \u001b[49m\u001b[43mmaster\u001b[49m\u001b[43m,\u001b[49m\u001b[43m \u001b[49m\u001b[38;5;124;43m'\u001b[39;49m\u001b[38;5;124;43mlabel\u001b[39;49m\u001b[38;5;124;43m'\u001b[39;49m\u001b[43m,\u001b[49m\u001b[43m \u001b[49m\u001b[43mcnf\u001b[49m\u001b[43m,\u001b[49m\u001b[43m \u001b[49m\u001b[43mkw\u001b[49m\u001b[43m)\u001b[49m\n",
      "File \u001b[1;32m~\\AppData\\Local\\Programs\\Python\\Python311\\Lib\\tkinter\\__init__.py:2625\u001b[0m, in \u001b[0;36mBaseWidget.__init__\u001b[1;34m(self, master, widgetName, cnf, kw, extra)\u001b[0m\n\u001b[0;32m   2623\u001b[0m \u001b[38;5;28;01mif\u001b[39;00m \u001b[38;5;28mself\u001b[39m\u001b[38;5;241m.\u001b[39m_tclCommands \u001b[38;5;129;01mis\u001b[39;00m \u001b[38;5;28;01mNone\u001b[39;00m:\n\u001b[0;32m   2624\u001b[0m     \u001b[38;5;28mself\u001b[39m\u001b[38;5;241m.\u001b[39m_tclCommands \u001b[38;5;241m=\u001b[39m []\n\u001b[1;32m-> 2625\u001b[0m classes \u001b[38;5;241m=\u001b[39m [(k, v) \u001b[38;5;28;01mfor\u001b[39;00m k, v \u001b[38;5;129;01min\u001b[39;00m \u001b[43mcnf\u001b[49m\u001b[38;5;241;43m.\u001b[39;49m\u001b[43mitems\u001b[49m() \u001b[38;5;28;01mif\u001b[39;00m \u001b[38;5;28misinstance\u001b[39m(k, \u001b[38;5;28mtype\u001b[39m)]\n\u001b[0;32m   2626\u001b[0m \u001b[38;5;28;01mfor\u001b[39;00m k, v \u001b[38;5;129;01min\u001b[39;00m classes:\n\u001b[0;32m   2627\u001b[0m     \u001b[38;5;28;01mdel\u001b[39;00m cnf[k]\n",
      "\u001b[1;31mAttributeError\u001b[0m: 'str' object has no attribute 'items'"
     ]
    }
   ],
   "source": [
    "from abc import ABC, abstractmethod\n",
    "import tkinter as tk\n",
    "from tkinter import messagebox\n",
    "\n",
    "class External_Vendors(ABC):\n",
    "    @abstractmethod \n",
    "    def Menu(self, vendor):\n",
    "        print(\"Menu\")\n",
    "\n",
    "class Cooperative_Cafeteria(External_Vendors):\n",
    "    def Menu(vendor):\n",
    "\n",
    "        vendor = tk.Tk()\n",
    "        vendor.title(\"Cooperative Cafeteria\")\n",
    "        vendor.geometry(\"300x150\")\n",
    "\n",
    "        meals = tk.Label(\"Jollof and Rice - ₦200 \\nWhite Rice - ₦200 \\nFried Rice - ₦200 \\nSalad - ₦100 \\nPlantain - ₦100\")\n",
    "        meals.pack()\n",
    "\n",
    "class Faith_Hostel_Cafeteria(External_Vendors):\n",
    "    def Menu(vendor):\n",
    "        vendor = tk.Tk()\n",
    "        vendor.title(\"Faith Hostel Cafeteria\")\n",
    "        vendor.geometry(\"300x150\")\n",
    "\n",
    "        meals = tk.Label(\"Fried Rice - ₦400 \\nWhite Rice and Stew - ₦400 \\nJollof Rice - ₦400 \\nBeans - ₦200 \\nChicken - ₦1000\")\n",
    "        meals.pack()\n",
    "\n",
    "class Student_Center_Cafeteria(External_Vendors):\n",
    "    def Menu(vendor):\n",
    "        vendor = tk.Tk()\n",
    "        vendor.title(\"Student Center Cafeteria\")\n",
    "        vendor.geometry(\"300x150\")\n",
    "\n",
    "        meals = tk.Label(\"Chicken Fried Rice - ₦800 \\nPomo Sauce - ₦300 \\nSpaghetti Jollof - ₦500 \\nAmala & Ewedu - ₦500 \\nSemo with Eforiro Soup - ₦500\")\n",
    "        meals.pack()\n",
    "\n",
    "def button():\n",
    "    v = vendor_input.get()\n",
    "\n",
    "    if v == \"Cooperative Cafeteria\":\n",
    "        menu = Cooperative_Cafeteria()\n",
    "        menu.Menu()\n",
    "\n",
    "    elif v == \"Faith Hostel Cafeteria\":\n",
    "        menu = Faith_Hostel_Cafeteria()\n",
    "        menu.Menu()\n",
    "\n",
    "    elif v == \"Student Center Cafeteria\":\n",
    "        menu = Student_Center_Cafeteria()\n",
    "        menu.Menu()\n",
    "\n",
    "    else:\n",
    "        messagebox.showinfo(\"!\", \"It seems you've typed in the wrong thing. \\nTry again, please.\")\n",
    "\n",
    "vendor = tk.Tk()\n",
    "vendor.title(\"Chow Town\")\n",
    "vendor.geometry(\"400x200\")\n",
    "\n",
    "text1 = tk.Label(vendor, \"Welcome to 'Chow Town'! \\nPAU's number one site for getting referalls to all the yummy food vendors on campus!\")\n",
    "text1.pack()\n",
    "text2 = tk.Label(vendor, \"The current vendors we offer include: \\n1. Cooperative Cafteria \\n2. Faith Hostel Cafeteria \\n3. Student Centre Cafeteria\")\n",
    "text2.pack()\n",
    "\n",
    "text3 = tk.Label(vendor, \"Input your preferred vendor to see their menu.\")\n",
    "text3.pack()\n",
    "vendor_input.Entry(vendor)\n",
    "vendor_input.pack()\n",
    "\n",
    "enter_button = tk.Button(vendor, text = \"Enter\", command = button)\n",
    "enter_button.pack\n",
    "\n",
    "vendor.mainloop()"
   ]
  }
 ],
 "metadata": {
  "kernelspec": {
   "display_name": "Python 3",
   "language": "python",
   "name": "python3"
  },
  "language_info": {
   "codemirror_mode": {
    "name": "ipython",
    "version": 3
   },
   "file_extension": ".py",
   "mimetype": "text/x-python",
   "name": "python",
   "nbconvert_exporter": "python",
   "pygments_lexer": "ipython3",
   "version": "3.11.4"
  }
 },
 "nbformat": 4,
 "nbformat_minor": 4
}
